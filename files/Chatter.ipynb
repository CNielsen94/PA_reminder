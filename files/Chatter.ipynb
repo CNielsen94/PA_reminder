{
 "cells": [
  {
   "attachments": {},
   "cell_type": "markdown",
   "metadata": {},
   "source": [
    "#Installs"
   ]
  },
  {
   "cell_type": "code",
   "execution_count": null,
   "metadata": {},
   "outputs": [],
   "source": [
    "!pip install streamlit langchain OpenAI -q"
   ]
  },
  {
   "cell_type": "code",
   "execution_count": null,
   "metadata": {},
   "outputs": [],
   "source": [
    "# Bring in deps\n",
    "import os \n",
    "from apikey import apikey \n",
    "import datetime\n",
    "import json\n",
    "\n",
    "from langchain.llms import OpenAI\n",
    "\n",
    "from langchain.prompts import PromptTemplate\n",
    "from langchain.chains import LLMChain\n",
    "from langchain.memory import ConversationBufferMemory\n",
    "from langchain.chains import PALChain\n",
    "from langchain.agents import initialize_agent, Tool\n",
    "from langchain.callbacks.manager import AsyncCallbackManagerForToolRun, CallbackManagerForToolRun\n",
    "from typing import Optional, Type      \n",
    "from langchain.tools import BaseTool, tool\n",
    "os.environ['OPENAI_API_KEY'] = apikey"
   ]
  },
  {
   "attachments": {},
   "cell_type": "markdown",
   "metadata": {},
   "source": [
    "#Tool functions"
   ]
  },
  {
   "cell_type": "code",
   "execution_count": null,
   "metadata": {},
   "outputs": [],
   "source": [
    "# Define the reworked functions\n",
    "\n",
    "def add_event_from_string(input_string):\n",
    "    name, datetime_input = input_string.split(\",\", 1)\n",
    "    name = name.strip()\n",
    "    datetime_input = datetime_input.strip()\n",
    "\n",
    "    event_datetime = datetime.datetime.strptime(datetime_input, \"%Y-%m-%d-%H-%M\")\n",
    "    date_str = event_datetime.strftime(\"%Y-%m-%d\")\n",
    "    time_str = event_datetime.strftime(\"%H:%M\")\n",
    "    event = {\"name\": name, \"date_and_time\": f\"{date_str} {time_str}\"}\n",
    "\n",
    "    if date_str not in calendar:\n",
    "        calendar[date_str] = {}\n",
    "\n",
    "    if time_str not in calendar[date_str]:\n",
    "        calendar[date_str][time_str] = []\n",
    "\n",
    "    calendar[date_str][time_str].append(event)\n",
    "\n",
    "def from_json(file_path):\n",
    "    if os.path.exists(file_path):\n",
    "        with open(file_path, \"r\") as f:\n",
    "            calendar = json.load(f)\n",
    "    else:\n",
    "        calendar = {}\n",
    "    return calendar\n",
    "\n",
    "def save_calendar_as_json(filename):\n",
    "    with open(filename, 'w') as file:\n",
    "        json.dump(calendar, file)\n",
    "    #print(f\"Calendar saved as {filename}.\")\n",
    "\n",
    "def get_date(ignore_input=None):\n",
    "    now = datetime.datetime.now()\n",
    "    year = now.year\n",
    "    month = now.month\n",
    "    day = now.day\n",
    "    return year, month, day\n",
    "\n",
    "def extract_dates(ignore_input=None):\n",
    "    result = []\n",
    "    calendar = {\n",
    "        '2023-06-01': {\n",
    "            '12:00': [\n",
    "                {\n",
    "                    'name': 'Doctors Appointment',\n",
    "                    'date_and_time': '2023-06-01 12:00'\n",
    "                }\n",
    "            ]\n",
    "        }\n",
    "    }\n",
    "    \n",
    "    for date, time_slots in calendar.items():\n",
    "        for time, appointments in time_slots.items():\n",
    "            for appointment in appointments:\n",
    "                name = appointment['name']\n",
    "                date_and_time = appointment['date_and_time']\n",
    "                result.append((name, date_and_time))\n",
    "    return result"
   ]
  },
  {
   "attachments": {},
   "cell_type": "markdown",
   "metadata": {},
   "source": [
    "#Tool and memory setup"
   ]
  },
  {
   "cell_type": "code",
   "execution_count": null,
   "metadata": {},
   "outputs": [],
   "source": [
    "llm = OpenAI(temperature=0)\n",
    "pal_chain = PALChain.from_math_prompt(llm, verbose=True)\n",
    "tools = [\n",
    "\tTool(\n",
    "\t\tname = \"Current date\",\n",
    "\t\tfunc =  get_date,\n",
    "\t\tdescription= \"Useful for when you need to check what it currently is. There is no input required, and it will output a tuple with 3 variables; year, month, day. You should simply call the function: get_date()\",\n",
    "\t\t),\n",
    "\tTool(\n",
    "\t\tname = \"Check calendar\",\n",
    "\t\tfunc = extract_dates,\n",
    "\t\tdescription = \"Useful for when you need to check all planned events in the calendar. There is no input required, and it will output a list of all planned events. You should simply call the function: extract_dates()\"\t\n",
    "\t\t),\n",
    "\tTool(\n",
    "\t\tname = 'add event from string',\n",
    "\t\tfunc = add_event_from_string,\n",
    "\t\tdescription=\"Useful for when you need to schedule an event for a given date and time. The input should be as the following example: 'name_of_event, 2023-05-21-12-30'\",\n",
    "\t\t),\n",
    "\tTool(\n",
    "\t\tname = 'save calendar as json',\n",
    "\t\tfunc = save_calendar_as_json,\n",
    "\t\tdescription = \"Useful for when you need to save calendar information as a json file. Example of usage: save_calendar_as_json('events.json')\"\n",
    "\t\t),\n",
    "\tTool(\n",
    "\t\tname = \"from json\",\n",
    "\t\tfunc = from_json,\n",
    "\t\tdescription = \"Useful for when you need to load saved events from json file. This tool should always be used like this example: calendar = from_json('events.json')\"\t\n",
    "\t  ),\n",
    "\tTool(\n",
    "        name = \"PAL\",\n",
    "        func = pal_chain.run,\n",
    "        description = \"useful for when you need to answer questions about math or word problems or date calculations/comparisons\"),\n",
    "]\n",
    "\n",
    "memory = ConversationBufferMemory(memory_key=\"chat_history\")"
   ]
  },
  {
   "cell_type": "code",
   "execution_count": null,
   "metadata": {},
   "outputs": [],
   "source": [
    "agent_chain = initialize_agent(\n",
    "\t\ttools=tools,\n",
    "\t\tllm=llm,\n",
    "\t\tagent='conversational-react-description', \n",
    "\t\tmemory=memory, \n",
    "\t\tverbose=True\n",
    "\t\t)"
   ]
  },
  {
   "attachments": {},
   "cell_type": "markdown",
   "metadata": {},
   "source": [
    "#Prompt engineering"
   ]
  },
  {
   "cell_type": "code",
   "execution_count": null,
   "metadata": {},
   "outputs": [],
   "source": [
    "sys_message = \"\"\" Assistant is a large language model trained by OpenAI.\n",
    "\n",
    "Assistant is designed to be able to assist with a wide range of tasks, from answering simple questions to providing in-depth explanations and discussions on a wide range of topics. As a language model, Assistant is able to generate human-like text based on the input it receives, allowing it to engage in natural-sounding conversations and provide responses that are coherent and relevant to the topic at hand.\n",
    "\n",
    "Assistant is constantly learning and improving, and its capabilities are constantly evolving. It is able to process and understand large amounts of text, and can use this knowledge to provide accurate and informative responses to a wide range of questions. Additionally, Assistant is able to generate its own text based on the input it receives, allowing it to engage in discussions and provide explanations and descriptions on a wide range of topics.\n",
    "\n",
    "Overall, Assistant is a powerful tool that can help with a wide range of tasks and provide valuable insights and information on a wide range of topics. Whether you need help with a specific question or just want to have a conversation about a particular topic, Assistant is here to assist.\n",
    "\n",
    "TOOLS:\n",
    "------\n",
    "\n",
    "Assistant has access to the following tools:\n",
    "\n",
    "> Current date: useful to get today's date. There is no input required, and it will output 3 variables; year, month, day. You should simply call the function: get_date()\n",
    "> check events: Use to check on what events are coming up and needs to taken into account. The input to this tool should be a string in this format year, month, day. This is the only way for you to answer questions about upcoming events. This tool will reply with a list of planned events for the specified date in 24hour time.\n",
    "> add event from string: Useful to schedule an event for a given date and time, and add it to calendar dictionary. The input should be as the following example: 'name_of_event, 2023-05-21-12-30'\n",
    "> save calendar as json: Useful for storing calendar information as a json file. You always have to store it as events.json. example of usage: save_calendar_as_json('events.json')\n",
    "> from json: Use to load saved events from json file. The json file should always be named 'events.json'\n",
    "> PAL: useful for when you need to answer questions about math or word problems or date calculations/comparisons\n",
    "\n",
    "To use a tool, please use the following format:\n",
    "\n",
    "```\n",
    "Thought: Do I need to use a tool? Yes\n",
    "Action: the action to take, should be one of [Current date, check events, add event from string, save calendar as json, from json, PAL]\n",
    "Action Input: the input to the action\n",
    "Observation: the result of the action\n",
    "```\n",
    "\n",
    "When you have a response to say to the Human, or if you do not need to use a tool, you MUST use the format:\n",
    "\n",
    "```\n",
    "Thought: Do I need to use a tool? No\n",
    "AI: [your response here]\n",
    "```\n",
    "\n",
    "Begin!\n",
    "\n",
    "Previous conversation history:\n",
    "{chat_history}\n",
    "\n",
    "New input: {input}\n",
    "{agent_scratchpad} \"\"\""
   ]
  },
  {
   "cell_type": "code",
   "execution_count": null,
   "metadata": {},
   "outputs": [],
   "source": [
    "agent_chain.agent.llm_chain.prompt.template = sys_message"
   ]
  },
  {
   "attachments": {},
   "cell_type": "markdown",
   "metadata": {},
   "source": [
    "#Running the agent model"
   ]
  },
  {
   "cell_type": "code",
   "execution_count": null,
   "metadata": {},
   "outputs": [],
   "source": [
    "calendar = {} # We clear out the events dictionary for testing purposes"
   ]
  },
  {
   "cell_type": "code",
   "execution_count": null,
   "metadata": {},
   "outputs": [],
   "source": [
    "#AgentCall function\n",
    "def ScheduleAgent(input_string):\n",
    "  calendar = from_json('events.json')\n",
    "  agent_chain.run('What is todays date?')\n",
    "  agent_chain.run(f'{input_string}')\n",
    "  save_calendar_as_json('events.json')"
   ]
  },
  {
   "cell_type": "code",
   "execution_count": null,
   "metadata": {},
   "outputs": [],
   "source": [
    "AgentCall(\"I want to schedule a doctors appointment for 1st of june at 12:00.\")"
   ]
  },
  {
   "attachments": {},
   "cell_type": "markdown",
   "metadata": {},
   "source": [
    "#Current issues:"
   ]
  },
  {
   "attachments": {},
   "cell_type": "markdown",
   "metadata": {},
   "source": [
    "- General inconsistency: Sometimes the model doesn't correctly save an event to dictionary, causing the calendar variable as well as 'events.json' to be output as empty.\n",
    "- add_event_from_string functions does work properly, however it has unnecessary code smell in terms of the try: except:. The exception error seems to always be thrown regardless of function input."
   ]
  }
 ],
 "metadata": {
  "language_info": {
   "name": "python"
  },
  "orig_nbformat": 4
 },
 "nbformat": 4,
 "nbformat_minor": 2
}
