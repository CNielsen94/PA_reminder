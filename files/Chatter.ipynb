{
  "cells": [
    {
      "cell_type": "markdown",
      "metadata": {
        "id": "yhIb5QGDCaXg"
      },
      "source": [
        "#Installs"
      ]
    },
    {
      "cell_type": "code",
      "execution_count": 1,
      "metadata": {
        "id": "QEV_e0FK5UMA"
      },
      "outputs": [],
      "source": [
        "!pip install streamlit langchain OpenAI -q"
      ]
    },
    {
      "cell_type": "code",
      "execution_count": 2,
      "metadata": {
        "id": "AeyuzqzbW6Ot"
      },
      "outputs": [],
      "source": [
        "# Bring in deps\n",
        "import os \n",
        "from apikey import apikey \n",
        "import datetime\n",
        "import json\n",
        "\n",
        "from langchain.llms import OpenAI\n",
        "\n",
        "from langchain.prompts import PromptTemplate\n",
        "from langchain.chains import LLMChain\n",
        "from langchain.memory import ConversationBufferMemory\n",
        "from langchain.chains import PALChain\n",
        "from langchain.agents import initialize_agent, Tool\n",
        "from langchain.callbacks.manager import AsyncCallbackManagerForToolRun, CallbackManagerForToolRun\n",
        "from typing import Optional, Type      \n",
        "from langchain.tools import BaseTool, tool\n",
        "os.environ['OPENAI_API_KEY'] = apikey"
      ]
    },
    {
      "cell_type": "markdown",
      "metadata": {
        "id": "yUD_A0tdCdQP"
      },
      "source": [
        "#Tool functions"
      ]
    },
    {
      "cell_type": "code",
      "execution_count": 3,
      "metadata": {
        "id": "HP8Z-BhvXADk"
      },
      "outputs": [],
      "source": [
        "# Define the reworked functions\n",
        "\n",
        "def add_event(input_string):\n",
        "    global calendar\n",
        "    name_of_event, datetime_input = input_string.split(\",\", 1)\n",
        "    name_of_event = name_of_event.strip()\n",
        "    datetime_input = datetime_input.strip()\n",
        "\n",
        "    event_datetime = datetime.datetime.strptime(datetime_input, \"%Y-%m-%d-%H-%M\")\n",
        "    date_str = event_datetime.strftime(\"%Y-%m-%d\")\n",
        "    time_str = event_datetime.strftime(\"%H:%M\")\n",
        "    event = {\"name\": name_of_event, \"date_and_time\": f\"{date_str} {time_str}\"}\n",
        "\n",
        "    if date_str not in calendar:\n",
        "        calendar[date_str] = {}\n",
        "\n",
        "    if time_str not in calendar[date_str]:\n",
        "        calendar[date_str][time_str] = []\n",
        "\n",
        "    calendar[date_str][time_str].append(event)\n",
        "\n",
        "\n",
        "def from_json(file_path):\n",
        "    global calendar\n",
        "    if os.path.exists(file_path):\n",
        "        with open(file_path, \"r\") as f:\n",
        "            calendar = json.load(f)\n",
        "    else:\n",
        "        calendar = {}\n",
        "    return calendar\n",
        "\n",
        "def save_calendar(file_path):\n",
        "    with open(file_path, 'w') as file:\n",
        "        json.dump(calendar, file)\n",
        "        return True\n",
        "\n",
        "def get_date(ignore_input=None): \n",
        "    now = datetime.datetime.now()\n",
        "    year = now.year\n",
        "    month = now.month\n",
        "    day = now.day\n",
        "    return year, month, day\n",
        "\n",
        "def extract_dates(ignore_input=None):\n",
        "    result = []\n",
        "    \n",
        "    for date, time_slots in calendar.items():\n",
        "        for time, appointments in time_slots.items():\n",
        "            for appointment in appointments:\n",
        "                name_of_event = appointment['name_of_event']\n",
        "                date_and_time = appointment['date_and_time']\n",
        "                result.append((name_of_event, date_and_time))\n",
        "    return result\n",
        "\n",
        "def remove_event(input_datetime):\n",
        "    global calendar\n",
        "    event_datetime = datetime.datetime.strptime(input_datetime, \"%Y-%m-%d-%H-%M\")\n",
        "    date_str = event_datetime.strftime(\"%Y-%m-%d\")\n",
        "    time_str = event_datetime.strftime(\"%H:%M\")\n",
        "\n",
        "    if date_str in calendar and time_str in calendar[date_str]:\n",
        "        events = calendar[date_str][time_str]\n",
        "        matching_events = [event for event in events if event[\"date_and_time\"] == f\"{date_str} {time_str}\"]\n",
        "\n",
        "        for event in matching_events:\n",
        "            events.remove(event)\n",
        "\n",
        "        if not events:\n",
        "            del calendar[date_str][time_str]\n",
        "            if not calendar[date_str]:\n",
        "                del calendar[date_str]\n",
        "\n",
        "        return True  # Event removed successfully\n",
        "\n",
        "    return False  # Event not found in the calendar"
      ]
    },
    {
      "cell_type": "markdown",
      "metadata": {
        "id": "hFycM5D92IUG"
      },
      "source": [
        "#Tool and memory setup"
      ]
    },
    {
      "cell_type": "code",
      "execution_count": 4,
      "metadata": {
        "id": "ksQSAVwrNPx6"
      },
      "outputs": [],
      "source": [
        "llm = OpenAI(temperature=0)\n",
        "pal_chain = PALChain.from_math_prompt(llm, verbose=True)\n",
        "tools = [\n",
        "    Tool(\n",
        "        name = \"Check calendar\",\n",
        "        func = extract_dates,\n",
        "        description = \"Useful for when you need to check all planned events in the calendar. This should be used before removing an event in order to find the correct event_name. There is no input required, and it will output a list of all planned events. You should simply call the function: extract_dates()\"   \n",
        "        ),\n",
        "    Tool(\n",
        "        name = 'add event',\n",
        "        func = add_event,\n",
        "        description=\"Useful for when you need to schedule an event for a given date and time. The input should be as the following example with double quotes: 'name_of_event, 2023-05-21-12-30'.\",\n",
        "        ),\n",
        "    Tool(\n",
        "        name = 'save calendar',\n",
        "        func = save_calendar,\n",
        "        description = \"Useful for when you need to save calendar information as a json file. Example of usage: save_calendar_as_json('events.json')\"\n",
        "        ),\n",
        "    Tool(\n",
        "        name = \"from json\",\n",
        "        func = from_json,\n",
        "        description = \"Useful for when you need to load saved events from json file. This tool should always be used like this example: calendar = from_json('events.json')\"    \n",
        "      ),\n",
        "    Tool(\n",
        "        name = 'remove event',\n",
        "        func = remove_event,\n",
        "        description = \"Useful for when you need to cancel and remove an event for a given date and time. The input should be as following '2023-05-21-12-30'\"   \n",
        "        ),\n",
        "    Tool(\n",
        "        name = \"PAL\",\n",
        "        func = pal_chain.run,\n",
        "        description = \"useful for when you need to answer questions about math or word problems or date calculations/comparisons\"),\n",
        "]\n",
        "\n",
        "memory = ConversationBufferMemory(memory_key=\"chat_history\")"
      ]
    },
    {
      "cell_type": "code",
      "execution_count": 5,
      "metadata": {
        "id": "pcATxc824Kks"
      },
      "outputs": [],
      "source": [
        "agent_chain = initialize_agent(\n",
        "\t\ttools=tools,\n",
        "\t\tllm=llm,\n",
        "\t\tagent='conversational-react-description', \n",
        "\t\tmemory=memory, \n",
        "\t\tverbose=True\n",
        "\t\t)"
      ]
    },
    {
      "cell_type": "markdown",
      "metadata": {
        "id": "bfj_VnagMg9t"
      },
      "source": [
        "#Prompt engineering"
      ]
    },
    {
      "cell_type": "code",
      "execution_count": 6,
      "metadata": {
        "id": "zjaN5oxMLEHJ"
      },
      "outputs": [],
      "source": [
        "sys_message = \"\"\"Assistant is a large language model trained by OpenAI.\n",
        "\n",
        "Assistant is designed to be able to assist with a wide range of tasks, from answering simple questions to providing in-depth explanations and discussions on a wide range of topics. As a language model, Assistant is able to generate human-like text based on the input it receives, allowing it to engage in natural-sounding conversations and provide responses that are coherent and relevant to the topic at hand.\n",
        "Assistant will never use (') when doing action inputs. This rule must be followed 100 percent of the time, failure to do so will result in the AI not understanding your input.\n",
        "Assistant is constantly learning and improving, and its capabilities are constantly evolving. It is able to process and understand large amounts of text, and can use this knowledge to provide accurate and informative responses to a wide range of questions. Additionally, Assistant is able to generate its own text based on the input it receives, allowing it to engage in discussions and provide explanations and descriptions on a wide range of topics.\n",
        "\n",
        "Overall, Assistant is a powerful tool that can help with a wide range of tasks and provide valuable insights and information on a wide range of topics. Whether you need help with a specific question or just want to have a conversation about a particular topic, Assistant is here to assist.\n",
        "\n",
        "TOOLS:\n",
        "------\n",
        "\n",
        "Assistant has access to the following tools:\n",
        "\n",
        "> Check calendar: Useful for when you need to check all planned events in the calendar. This should be used before removing an event in order to find the correct event_name. There is no input required, and it will output a list of all planned events. You should simply call the function: extract_dates()\n",
        "> add event: Useful for when you need to schedule an event for a given date and time. The input should be as the following example with double quotes: 'name_of_event, 2023-05-21-12-30'.\n",
        "> save calendar: Useful for when you need to save calendar information as a json file. Example of usage: save_calendar_as_json('events.json')\n",
        "> from json: Useful for when you need to load saved events from json file. This tool should always be used like this example: calendar = from_json('events.json')\n",
        "> remove event: Useful for when you need to cancel and remove an event for a given date and time. The input should be as following '2023-05-21-12-30'\n",
        "> PAL: useful for when you need to answer questions about math or word problems or date calculations/comparisons\n",
        "\n",
        "To use a tool, please use the following format:\n",
        "\n",
        "```\n",
        "Thought: Do I need to use a tool? Yes\n",
        "Action: the action to take, should be one of [Check calendar, add event, save calendar, from json, remove event, PAL]\n",
        "Action Input: the input to the action, words must never be separated by (')such as doctor's appointment, should correctly be written as doctors appointment\n",
        "Observation: the result of the action\n",
        "```\n",
        "\n",
        "When you have a response to say to the Human, or if you do not need to use a tool, you MUST use the format:\n",
        "\n",
        "```\n",
        "Thought: Do I need to use a tool? No\n",
        "AI: [your response here]\n",
        "```\n",
        "\n",
        "Begin!\n",
        "\n",
        "Previous conversation history:\n",
        "{chat_history}\n",
        "\n",
        "New input: {input}\n",
        "{agent_scratchpad}\"\"\""
      ]
    },
    {
      "cell_type": "code",
      "execution_count": 7,
      "metadata": {
        "id": "uwIpiX8W5Dgl"
      },
      "outputs": [],
      "source": [
        "agent_chain.agent.llm_chain.prompt.template = sys_message"
      ]
    },
    {
      "cell_type": "markdown",
      "metadata": {
        "id": "O9MO9-E9QNw3"
      },
      "source": [
        "#AgentCall function"
      ]
    },
    {
      "cell_type": "code",
      "execution_count": 8,
      "metadata": {
        "id": "raWvlBO_Pb_-"
      },
      "outputs": [],
      "source": [
        "def ScheduleAgent(input_string):\n",
        "  global calendar\n",
        "  calendar = from_json('events.json')\n",
        "  current_year = datetime.datetime.now().year\n",
        "  agent_chain.run(f'{input_string} Current year: {current_year}.')\n",
        "  save_calendar_as_json('events.json')"
      ]
    },
    {
      "cell_type": "markdown",
      "metadata": {
        "id": "rEaayrX3Ctf-"
      },
      "source": [
        "#Testing AgentCall function"
      ]
    },
    {
      "cell_type": "code",
      "execution_count": 9,
      "metadata": {
        "colab": {
          "base_uri": "https://localhost:8080/"
        },
        "id": "CyW6qmStPza-",
        "outputId": "667f2119-aa30-427c-adc9-9a4275a6bad6"
      },
      "outputs": [
        {
          "name": "stdout",
          "output_type": "stream",
          "text": [
            "\n",
            "\n",
            "\u001b[1m> Entering new AgentExecutor chain...\u001b[0m\n",
            "\u001b[32;1m\u001b[1;3m\n",
            "Thought: Do I need to use a tool? Yes\n",
            "Action: add event from string\n",
            "Action Input: \"Doctor's Appointment, 2023-06-01-12-00\"\u001b[0m\n",
            "Observation: \u001b[38;5;200m\u001b[1;3mNone\u001b[0m\n",
            "Thought:\u001b[32;1m\u001b[1;3m Do I need to use a tool? No\n",
            "AI: The doctor's appointment has been scheduled for June 1st at 12:00.\u001b[0m\n",
            "\n",
            "\u001b[1m> Finished chain.\u001b[0m\n"
          ]
        }
      ],
      "source": [
        "ScheduleAgent(\"I want to schedule a doctors appointment for 1st of june at 12:00.\")"
      ]
    },
    {
      "cell_type": "code",
      "execution_count": 10,
      "metadata": {
        "colab": {
          "base_uri": "https://localhost:8080/"
        },
        "id": "SqI7prKF_NXL",
        "outputId": "53ab65c8-8ace-442a-c386-9f60b71d8ad2"
      },
      "outputs": [
        {
          "name": "stdout",
          "output_type": "stream",
          "text": [
            "{'2023-06-01': {'12:00': [{'name': \"Doctor's Appointment\", 'date_and_time': '2023-06-01 12:00'}]}}\n"
          ]
        }
      ],
      "source": [
        "print(calendar)"
      ]
    },
    {
      "cell_type": "code",
      "execution_count": 11,
      "metadata": {
        "colab": {
          "base_uri": "https://localhost:8080/"
        },
        "id": "KLVA1udN5c8L",
        "outputId": "6a3d29cf-90dd-4a00-d9f2-03540082412f"
      },
      "outputs": [
        {
          "name": "stdout",
          "output_type": "stream",
          "text": [
            "\n",
            "\n",
            "\u001b[1m> Entering new AgentExecutor chain...\u001b[0m\n",
            "\u001b[32;1m\u001b[1;3mThought: Do I need to use a tool? Yes\n",
            "Action: remove event from string\n",
            "Action Input: 2023-06-01-12-00\u001b[0m\n",
            "Observation: \u001b[33;1m\u001b[1;3mTrue\u001b[0m\n",
            "Thought:\u001b[32;1m\u001b[1;3m Do I need to use a tool? No\n",
            "AI: The doctor's appointment on June 1st at 12:00 has been cancelled.\u001b[0m\n",
            "\n",
            "\u001b[1m> Finished chain.\u001b[0m\n"
          ]
        }
      ],
      "source": [
        "ScheduleAgent('I want to cancel my doctors appointment on the 1st of june')"
      ]
    },
    {
      "cell_type": "code",
      "execution_count": 12,
      "metadata": {
        "colab": {
          "base_uri": "https://localhost:8080/"
        },
        "id": "bn3zCkQ7ESlp",
        "outputId": "d56c1c58-24c5-4d0a-a55f-e5b514379aed"
      },
      "outputs": [
        {
          "name": "stdout",
          "output_type": "stream",
          "text": [
            "{}\n"
          ]
        }
      ],
      "source": [
        "print(calendar)"
      ]
    }
  ],
  "metadata": {
    "colab": {
      "provenance": []
    },
    "kernelspec": {
      "display_name": "Python 3",
      "name": "python3"
    },
    "language_info": {
      "name": "python"
    }
  },
  "nbformat": 4,
  "nbformat_minor": 0
}
