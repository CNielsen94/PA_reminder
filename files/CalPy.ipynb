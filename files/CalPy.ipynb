{
  "cells": [
    {
      "cell_type": "markdown",
      "metadata": {
        "id": "zfQMTnwKUIph"
      },
      "source": [
        "#Installs/Imports"
      ]
    },
    {
      "cell_type": "code",
      "execution_count": null,
      "metadata": {
        "id": "GLIsQyBdSSjp"
      },
      "outputs": [],
      "source": [
        "import datetime\n",
        "import json\n",
        "import os"
      ]
    },
    {
      "cell_type": "markdown",
      "metadata": {
        "id": "tJ_SgY4yUNVm"
      },
      "source": [
        "#Class definition"
      ]
    },
    {
      "cell_type": "code",
      "execution_count": null,
      "metadata": {
        "id": "Bly90_x4SSiA"
      },
      "outputs": [],
      "source": [
        "import os\n",
        "import json\n",
        "import datetime\n",
        "\n",
        "class Calendar:\n",
        "    def __init__(self):\n",
        "        self.events = []\n",
        "\n",
        "    def add_event(self, name, date_and_time):\n",
        "        event = self.Event(name, date_and_time)\n",
        "        self.events.append(event)\n",
        "\n",
        "    def get_events_on_date(self, date):\n",
        "        events_on_date = []\n",
        "        for event in self.events:\n",
        "            if event.date_and_time.date() == date:\n",
        "                events_on_date.append(event)\n",
        "        return events_on_date\n",
        "\n",
        "    def from_json(self, file_path):\n",
        "        if os.path.exists(file_path):\n",
        "            with open(file_path, \"r\") as f:\n",
        "                events_data = json.load(f)\n",
        "        else:\n",
        "            events_data = []\n",
        "\n",
        "        for event_data in events_data:\n",
        "            event_name = event_data[\"name\"]\n",
        "            event_datetime = datetime.datetime.fromisoformat(event_data[\"date_and_time\"])\n",
        "            event = self.Event(event_name, event_datetime)\n",
        "            self.events.append(event)\n",
        "\n",
        "    def to_json(self, file_path):\n",
        "        events_data = []\n",
        "        for event in self.events:\n",
        "            event_data = {\n",
        "                \"name\": event.name,\n",
        "                \"date_and_time\": event.date_and_time.isoformat(),\n",
        "            }\n",
        "            events_data.append(event_data)\n",
        "\n",
        "        with open(file_path, \"w\") as f:\n",
        "            json.dump(events_data, f, indent=4)\n",
        "\n",
        "    class Event:\n",
        "        def __init__(self, name, date_and_time):\n",
        "            self.name = name\n",
        "            self.date_and_time = date_and_time"
      ]
    },
    {
      "cell_type": "markdown",
      "metadata": {
        "id": "Bnv7LFd8URv5"
      },
      "source": [
        "#Test of functionality (commented out for importing):"
      ]
    },
    {
      "cell_type": "markdown",
      "metadata": {
        "id": "_GekCo7JVJZt"
      },
      "source": [
        "First we initialize our Calendar class using events.json if it exists, otherwise we initialize an empty calendar. (NOTE: THIS DOES NOT GENERATE A JSON FILE)"
      ]
    },
    {
      "cell_type": "code",
      "execution_count": null,
      "metadata": {
        "id": "ZojP9DpuSSgA"
      },
      "outputs": [],
      "source": [
        "# Load events from a events.json if this file exists, otherwise create a new empty calendar if the file doesn't exist\n",
        "#my_calendar = Calendar.from_json(\"events.json\")"
      ]
    },
    {
      "cell_type": "code",
      "execution_count": null,
      "metadata": {
        "colab": {
          "base_uri": "https://localhost:8080/"
        },
        "id": "W976RIVEUs3q",
        "outputId": "f2693508-cdd7-4155-c80e-0d1b75cb56fc"
      },
      "outputs": [
        {
          "data": {
            "text/plain": [
              "<__main__.Calendar at 0x7fea36db6830>"
            ]
          },
          "execution_count": 5,
          "metadata": {},
          "output_type": "execute_result"
        }
      ],
      "source": [
        "#my_calendar"
      ]
    },
    {
      "cell_type": "markdown",
      "metadata": {
        "id": "iF_10-22VwQ3"
      },
      "source": [
        "Let's do a quick functionality test"
      ]
    },
    {
      "cell_type": "code",
      "execution_count": null,
      "metadata": {
        "id": "Q4ykGFOhVtqf"
      },
      "outputs": [],
      "source": [
        "# Create and format a target date to check for events\n",
        "#target_date = datetime.date(2023, 5, 16)\n",
        "# Create a query for the calendar for events on target date\n",
        "#events_on_target_date = my_calendar.get_events_on_date(target_date)"
      ]
    },
    {
      "cell_type": "markdown",
      "metadata": {
        "id": "ep2WCv14Wowr"
      },
      "source": [
        "Quick if-else code to query"
      ]
    },
    {
      "cell_type": "code",
      "execution_count": null,
      "metadata": {
        "colab": {
          "base_uri": "https://localhost:8080/"
        },
        "id": "sDSO0SzpSRN7",
        "outputId": "77e586f1-fb68-453d-9d23-dbb03819efe1"
      },
      "outputs": [
        {
          "name": "stdout",
          "output_type": "stream",
          "text": [
            "No events on the specified date.\n"
          ]
        }
      ],
      "source": [
        "# Print the events on the target date\n",
        "#if events_on_target_date:\n",
        "#    print(f\"Events on {target_date}:\")\n",
        "#    for event in events_on_target_date:\n",
        "#        print(f\"- {event.name} at {event.date_and_time.time()}\")\n",
        "#else:\n",
        "#    print(\"No events on the specified date.\")"
      ]
    },
    {
      "cell_type": "markdown",
      "metadata": {
        "id": "1G6NaYZtXj1P"
      },
      "source": [
        "Let's try and add a new date to our calendar/json."
      ]
    },
    {
      "cell_type": "code",
      "execution_count": null,
      "metadata": {
        "id": "wdK-IivpWkus"
      },
      "outputs": [],
      "source": [
        "# Add a new event to the calendar and save it to the JSON file\n",
        "#new_event = Event(\"Wank-a-thon\", datetime.datetime(2023, 5, 18, 23, 0))\n",
        "#my_calendar.add_event(new_event)\n",
        "#my_calendar.to_json(\"events.json\")"
      ]
    },
    {
      "cell_type": "code",
      "execution_count": null,
      "metadata": {
        "id": "Zyk54RcEXjD3"
      },
      "outputs": [],
      "source": [
        "# Create and format a target date to check for events\n",
        "#target_date = datetime.date(2023, 5, 18)\n",
        "# Create a query for the calendar for events on target date\n",
        "#events_on_target_date = my_calendar.get_events_on_date(target_date)"
      ]
    },
    {
      "cell_type": "code",
      "execution_count": null,
      "metadata": {
        "colab": {
          "base_uri": "https://localhost:8080/"
        },
        "id": "V1gWHQgqW62e",
        "outputId": "a776bd8a-a920-4196-d603-52b6e50998dc"
      },
      "outputs": [
        {
          "name": "stdout",
          "output_type": "stream",
          "text": [
            "Events on 2023-05-18:\n",
            "- New Event at 15:00:00\n",
            "- Wank-a-thon at 23:00:00\n"
          ]
        }
      ],
      "source": [
        "# Print the events on the target date\n",
        "#if events_on_target_date:\n",
        "#    print(f\"Events on {target_date}:\")\n",
        "#    for event in events_on_target_date:\n",
        "#        print(f\"- {event.name} at {event.date_and_time.time()}\")\n",
        "#else:\n",
        "#    print(\"No events on the specified date.\")"
      ]
    },
    {
      "cell_type": "markdown",
      "metadata": {
        "id": "dcWvbVqdX3VA"
      },
      "source": [
        "The JSON file will persist due to the way it is loaded into the calendar during initialization with the from_json method we defined. As mentioned earlier, if the json file does not exist, it will initiate an empty calendar instead. However, if the file exists, it will load in those events, and store them within the class. This makes it so that the existing JSON file remains unaltered untill we are done with the calendar, where after it will then be updated with the newly added events."
      ]
    },
    {
      "cell_type": "markdown",
      "metadata": {
        "id": "IDsXvkCrZGbV"
      },
      "source": [
        "Example:"
      ]
    },
    {
      "cell_type": "markdown",
      "metadata": {
        "id": "lxrVVK5taE_Y"
      },
      "source": [
        "initialize new calendar from existing json"
      ]
    },
    {
      "cell_type": "code",
      "execution_count": null,
      "metadata": {
        "id": "fWHzDpOIZEdV"
      },
      "outputs": [],
      "source": [
        "#example_calendar = Calendar.from_json(\"events.json\")"
      ]
    },
    {
      "cell_type": "markdown",
      "metadata": {
        "id": "nAnIDsZ_aOFY"
      },
      "source": [
        "Create a target date to check for events, and create the query using get_events_on_date method"
      ]
    },
    {
      "cell_type": "code",
      "execution_count": null,
      "metadata": {
        "id": "lHIs23U3ZOOk"
      },
      "outputs": [],
      "source": [
        "# Create and format a target date to check for events\n",
        "#target_date = datetime.date(2023, 5, 18)\n",
        "# Create a query for the calendar for events on target date\n",
        "#events_on_target_date = example_calendar.get_events_on_date(target_date)"
      ]
    },
    {
      "cell_type": "markdown",
      "metadata": {
        "id": "6mhBDqVTaZEg"
      },
      "source": [
        "Print results - These dates were the ones already in the events.json"
      ]
    },
    {
      "cell_type": "code",
      "execution_count": null,
      "metadata": {
        "colab": {
          "base_uri": "https://localhost:8080/"
        },
        "id": "U1u1nZu9ZTst",
        "outputId": "42fb8a2c-86fe-4b84-885e-ec29067292a4"
      },
      "outputs": [
        {
          "name": "stdout",
          "output_type": "stream",
          "text": [
            "Events on 2023-05-18:\n",
            "- New Event at 15:00:00\n",
            "- Wank-a-thon at 23:00:00\n"
          ]
        }
      ],
      "source": [
        "# Print the events on the target date\n",
        "#if events_on_target_date:\n",
        "#    print(f\"Events on {target_date}:\")\n",
        "#    for event in events_on_target_date:\n",
        "#        print(f\"- {event.name} at {event.date_and_time.time()}\")\n",
        "#else:\n",
        "#    print(\"No events on the specified date.\")"
      ]
    },
    {
      "cell_type": "markdown",
      "metadata": {
        "id": "nSW_stNnakYJ"
      },
      "source": [
        "Let's add a new event date, as well as save it to the json using the to_json method."
      ]
    },
    {
      "cell_type": "code",
      "execution_count": null,
      "metadata": {
        "id": "90N_t5KMZilv"
      },
      "outputs": [],
      "source": [
        "# Add a new event to the calendar and save it to the JSON file\n",
        "#new_event = Event(\"example\", datetime.datetime(2023, 5, 19, 23, 0))\n",
        "#example_calendar.add_event(new_event)\n",
        "#example_calendar.to_json(\"events.json\")"
      ]
    },
    {
      "cell_type": "markdown",
      "metadata": {
        "id": "Owgx8qFbatY6"
      },
      "source": [
        "Create a target date to check for the new events, and create the query using get_events_on_date method"
      ]
    },
    {
      "cell_type": "code",
      "execution_count": null,
      "metadata": {
        "id": "Ds9HnBjDZ1Zf"
      },
      "outputs": [],
      "source": [
        "# Create and format a target date to check for events\n",
        "#target_date = datetime.date(2023, 5, 19)\n",
        "# Create a query for the calendar for events on target date\n",
        "#events_on_target_date = example_calendar.get_events_on_date(target_date)"
      ]
    },
    {
      "cell_type": "code",
      "execution_count": null,
      "metadata": {
        "colab": {
          "base_uri": "https://localhost:8080/"
        },
        "id": "d6HidI8VZqvP",
        "outputId": "07e4eed5-fdca-47b2-e9ea-19119747c056"
      },
      "outputs": [
        {
          "name": "stdout",
          "output_type": "stream",
          "text": [
            "Events on 2023-05-19:\n",
            "- example at 23:00:00\n"
          ]
        }
      ],
      "source": [
        "# Print the events on the target date\n",
        "#if events_on_target_date:\n",
        "#    print(f\"Events on {target_date}:\")\n",
        "#    for event in events_on_target_date:\n",
        "#        print(f\"- {event.name} at {event.date_and_time.time()}\")\n",
        "#else:\n",
        "#    print(\"No events on the specified date.\")"
      ]
    }
  ],
  "metadata": {
    "colab": {
      "provenance": []
    },
    "kernelspec": {
      "display_name": "Python 3",
      "name": "python3"
    },
    "language_info": {
      "name": "python"
    }
  },
  "nbformat": 4,
  "nbformat_minor": 0
}
