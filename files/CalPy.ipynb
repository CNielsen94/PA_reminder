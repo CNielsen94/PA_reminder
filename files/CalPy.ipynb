{
  "nbformat": 4,
  "nbformat_minor": 0,
  "metadata": {
    "colab": {
      "provenance": []
    },
    "kernelspec": {
      "name": "python3",
      "display_name": "Python 3"
    },
    "language_info": {
      "name": "python"
    }
  },
  "cells": [
    {
      "cell_type": "markdown",
      "source": [
        "#Installs/Imports"
      ],
      "metadata": {
        "id": "zfQMTnwKUIph"
      }
    },
    {
      "cell_type": "code",
      "source": [
        "import datetime\n",
        "import json\n",
        "import os"
      ],
      "metadata": {
        "id": "GLIsQyBdSSjp"
      },
      "execution_count": null,
      "outputs": []
    },
    {
      "cell_type": "markdown",
      "source": [
        "#Class definition"
      ],
      "metadata": {
        "id": "tJ_SgY4yUNVm"
      }
    },
    {
      "cell_type": "code",
      "source": [
        "#This code defines the Event class. The class has a constructor method __init__ which takes in two parameters: name and date_and_time. The name parameter represents the name of the event, and the date_and_time parameter represents the date and time of the event.\n",
        "#Inside the constructor, self.name = name assigns the name parameter to the name attribute of the object (instance) being created. Similarly, self.date_and_time = date_and_time assigns the date_and_time parameter to the date_and_time attribute of the object.\n",
        "#In summary, this class allows you to create instances of events by specifying a name and a date with time.\n",
        "\n",
        "class Event:\n",
        "    def __init__(self, name, date_and_time):\n",
        "        self.name = name\n",
        "        self.date_and_time = date_and_time\n",
        "\n",
        "#This code defines the Calendar class. \n",
        "#The class has a constructor method __init__ that initializes the events attribute as an empty list. \n",
        "#This attribute will store the events added to the calendar.\n",
        "\n",
        "\n",
        "class Calendar:\n",
        "    def __init__(self):\n",
        "        self.events = []\n",
        "\n",
        "#The add_event method takes an event parameter and appends it to the events list attribute of the Calendar object. \n",
        "#This method allows you to add events to the calendar.\n",
        "\n",
        "    def add_event(self, event):\n",
        "        self.events.append(event)\n",
        "\n",
        "#The get_events_on_date method takes a date parameter and returns a list of events that occur on that specific date. \n",
        "#It iterates over the events list and checks if the date_and_time attribute of each event matches the specified date. \n",
        "#If a match is found, the event is added to the events_on_date list, which is then returned.\n",
        "\n",
        "\n",
        "    def get_events_on_date(self, date):\n",
        "        events_on_date = []\n",
        "        for event in self.events:\n",
        "            if event.date_and_time.date() == date:\n",
        "                events_on_date.append(event)\n",
        "        return events_on_date\n",
        "\n",
        "#The from_json class method is a special method decorated with @classmethod. It allows you to create a new instance of the Calendar class based on events data loaded from a JSON file specified by file_path.\n",
        "#The method first checks if the JSON file exists using os.path.exists. If the file exists, it opens the file and reads the events data using json.load. Otherwise, it initializes the events_data variable as an empty list.\n",
        "#Next, it creates a new instance of the Calendar class using calendar = cls(), which is equivalent to calendar = Calendar(). Then, it iterates over each event data in events_data, extracts the event name and date/time information, and creates an Event object using the extracted data. \n",
        "#Finally, it adds the event to the calendar using calendar.add_event(event).\n",
        "#The method returns the created calendar object containing the loaded events.\n",
        "\n",
        "\n",
        "    @classmethod\n",
        "    def from_json(cls, file_path):\n",
        "        if os.path.exists(file_path):\n",
        "            with open(file_path, \"r\") as f:\n",
        "                events_data = json.load(f)\n",
        "        else:\n",
        "            events_data = []\n",
        "\n",
        "        calendar = cls()\n",
        "        for event_data in events_data:\n",
        "            event_name = event_data[\"name\"]\n",
        "            event_datetime = datetime.datetime.fromisoformat(event_data[\"date_and_time\"])\n",
        "            event = Event(event_name, event_datetime)\n",
        "            calendar.add_event(event)\n",
        "\n",
        "        return calendar\n",
        "\n",
        "#The to_json method saves the events of the Calendar object to a JSON file specified by file_path. It iterates over each event in the events list and creates a dictionary event_data for each event with keys \"name\" and \"date_and_time\". \n",
        "#The event's name is assigned to \"name\" and the event's date and time, converted to an ISO 8601 string format using isoformat(), is assigned to \"date_and_time\". The event_data dictionary is then appended to the `events\n",
        "\n",
        "    def to_json(self, file_path):\n",
        "        events_data = []\n",
        "        for event in self.events:\n",
        "            event_data = {\n",
        "                \"name\": event.name,\n",
        "                \"date_and_time\": event.date_and_time.isoformat(),\n",
        "            }\n",
        "            events_data.append(event_data)\n",
        "\n",
        "        with open(file_path, \"w\") as f:\n",
        "            json.dump(events_data, f, indent=4)"
      ],
      "metadata": {
        "id": "Bly90_x4SSiA"
      },
      "execution_count": null,
      "outputs": []
    },
    {
      "cell_type": "markdown",
      "source": [
        "#Test of functionality (commented out for importing):"
      ],
      "metadata": {
        "id": "Bnv7LFd8URv5"
      }
    },
    {
      "cell_type": "markdown",
      "source": [
        "First we initialize our Calendar class using events.json if it exists, otherwise we initialize an empty calendar. (NOTE: THIS DOES NOT GENERATE A JSON FILE)"
      ],
      "metadata": {
        "id": "_GekCo7JVJZt"
      }
    },
    {
      "cell_type": "code",
      "source": [
        "# Load events from a events.json if this file exists, otherwise create a new empty calendar if the file doesn't exist\n",
        "#my_calendar = Calendar.from_json(\"events.json\")"
      ],
      "metadata": {
        "id": "ZojP9DpuSSgA"
      },
      "execution_count": null,
      "outputs": []
    },
    {
      "cell_type": "code",
      "source": [
        "#my_calendar"
      ],
      "metadata": {
        "colab": {
          "base_uri": "https://localhost:8080/"
        },
        "id": "W976RIVEUs3q",
        "outputId": "f2693508-cdd7-4155-c80e-0d1b75cb56fc"
      },
      "execution_count": null,
      "outputs": [
        {
          "output_type": "execute_result",
          "data": {
            "text/plain": [
              "<__main__.Calendar at 0x7fea36db6830>"
            ]
          },
          "metadata": {},
          "execution_count": 5
        }
      ]
    },
    {
      "cell_type": "markdown",
      "source": [
        "Let's do a quick functionality test"
      ],
      "metadata": {
        "id": "iF_10-22VwQ3"
      }
    },
    {
      "cell_type": "code",
      "source": [
        "# Create and format a target date to check for events\n",
        "#target_date = datetime.date(2023, 5, 16)\n",
        "# Create a query for the calendar for events on target date\n",
        "#events_on_target_date = my_calendar.get_events_on_date(target_date)"
      ],
      "metadata": {
        "id": "Q4ykGFOhVtqf"
      },
      "execution_count": null,
      "outputs": []
    },
    {
      "cell_type": "markdown",
      "source": [
        "Quick if-else code to query"
      ],
      "metadata": {
        "id": "ep2WCv14Wowr"
      }
    },
    {
      "cell_type": "code",
      "execution_count": null,
      "metadata": {
        "colab": {
          "base_uri": "https://localhost:8080/"
        },
        "id": "sDSO0SzpSRN7",
        "outputId": "77e586f1-fb68-453d-9d23-dbb03819efe1"
      },
      "outputs": [
        {
          "output_type": "stream",
          "name": "stdout",
          "text": [
            "No events on the specified date.\n"
          ]
        }
      ],
      "source": [
        "# Print the events on the target date\n",
        "#if events_on_target_date:\n",
        "#    print(f\"Events on {target_date}:\")\n",
        "#    for event in events_on_target_date:\n",
        "#        print(f\"- {event.name} at {event.date_and_time.time()}\")\n",
        "#else:\n",
        "#    print(\"No events on the specified date.\")"
      ]
    },
    {
      "cell_type": "markdown",
      "source": [
        "Let's try and add a new date to our calendar/json."
      ],
      "metadata": {
        "id": "1G6NaYZtXj1P"
      }
    },
    {
      "cell_type": "code",
      "source": [
        "# Add a new event to the calendar and save it to the JSON file\n",
        "#new_event = Event(\"Wank-a-thon\", datetime.datetime(2023, 5, 18, 23, 0))\n",
        "#my_calendar.add_event(new_event)\n",
        "#my_calendar.to_json(\"events.json\")"
      ],
      "metadata": {
        "id": "wdK-IivpWkus"
      },
      "execution_count": null,
      "outputs": []
    },
    {
      "cell_type": "code",
      "source": [
        "# Create and format a target date to check for events\n",
        "#target_date = datetime.date(2023, 5, 18)\n",
        "# Create a query for the calendar for events on target date\n",
        "#events_on_target_date = my_calendar.get_events_on_date(target_date)"
      ],
      "metadata": {
        "id": "Zyk54RcEXjD3"
      },
      "execution_count": null,
      "outputs": []
    },
    {
      "cell_type": "code",
      "source": [
        "# Print the events on the target date\n",
        "#if events_on_target_date:\n",
        "#    print(f\"Events on {target_date}:\")\n",
        "#    for event in events_on_target_date:\n",
        "#        print(f\"- {event.name} at {event.date_and_time.time()}\")\n",
        "#else:\n",
        "#    print(\"No events on the specified date.\")"
      ],
      "metadata": {
        "colab": {
          "base_uri": "https://localhost:8080/"
        },
        "id": "V1gWHQgqW62e",
        "outputId": "a776bd8a-a920-4196-d603-52b6e50998dc"
      },
      "execution_count": null,
      "outputs": [
        {
          "output_type": "stream",
          "name": "stdout",
          "text": [
            "Events on 2023-05-18:\n",
            "- New Event at 15:00:00\n",
            "- Wank-a-thon at 23:00:00\n"
          ]
        }
      ]
    },
    {
      "cell_type": "markdown",
      "source": [
        "The JSON file will persist due to the way it is loaded into the calendar during initialization with the from_json method we defined. As mentioned earlier, if the json file does not exist, it will initiate an empty calendar instead. However, if the file exists, it will load in those events, and store them within the class. This makes it so that the existing JSON file remains unaltered untill we are done with the calendar, where after it will then be updated with the newly added events."
      ],
      "metadata": {
        "id": "dcWvbVqdX3VA"
      }
    },
    {
      "cell_type": "markdown",
      "source": [
        "Example:"
      ],
      "metadata": {
        "id": "IDsXvkCrZGbV"
      }
    },
    {
      "cell_type": "markdown",
      "source": [
        "initialize new calendar from existing json"
      ],
      "metadata": {
        "id": "lxrVVK5taE_Y"
      }
    },
    {
      "cell_type": "code",
      "source": [
        "#example_calendar = Calendar.from_json(\"events.json\")"
      ],
      "metadata": {
        "id": "fWHzDpOIZEdV"
      },
      "execution_count": null,
      "outputs": []
    },
    {
      "cell_type": "markdown",
      "source": [
        "Create a target date to check for events, and create the query using get_events_on_date method"
      ],
      "metadata": {
        "id": "nAnIDsZ_aOFY"
      }
    },
    {
      "cell_type": "code",
      "source": [
        "# Create and format a target date to check for events\n",
        "#target_date = datetime.date(2023, 5, 18)\n",
        "# Create a query for the calendar for events on target date\n",
        "#events_on_target_date = example_calendar.get_events_on_date(target_date)"
      ],
      "metadata": {
        "id": "lHIs23U3ZOOk"
      },
      "execution_count": null,
      "outputs": []
    },
    {
      "cell_type": "markdown",
      "source": [
        "Print results - These dates were the ones already in the events.json"
      ],
      "metadata": {
        "id": "6mhBDqVTaZEg"
      }
    },
    {
      "cell_type": "code",
      "source": [
        "# Print the events on the target date\n",
        "#if events_on_target_date:\n",
        "#    print(f\"Events on {target_date}:\")\n",
        "#    for event in events_on_target_date:\n",
        "#        print(f\"- {event.name} at {event.date_and_time.time()}\")\n",
        "#else:\n",
        "#    print(\"No events on the specified date.\")"
      ],
      "metadata": {
        "colab": {
          "base_uri": "https://localhost:8080/"
        },
        "id": "U1u1nZu9ZTst",
        "outputId": "42fb8a2c-86fe-4b84-885e-ec29067292a4"
      },
      "execution_count": null,
      "outputs": [
        {
          "output_type": "stream",
          "name": "stdout",
          "text": [
            "Events on 2023-05-18:\n",
            "- New Event at 15:00:00\n",
            "- Wank-a-thon at 23:00:00\n"
          ]
        }
      ]
    },
    {
      "cell_type": "markdown",
      "source": [
        "Let's add a new event date, as well as save it to the json using the to_json method."
      ],
      "metadata": {
        "id": "nSW_stNnakYJ"
      }
    },
    {
      "cell_type": "code",
      "source": [
        "# Add a new event to the calendar and save it to the JSON file\n",
        "#new_event = Event(\"example\", datetime.datetime(2023, 5, 19, 23, 0))\n",
        "#example_calendar.add_event(new_event)\n",
        "#example_calendar.to_json(\"events.json\")"
      ],
      "metadata": {
        "id": "90N_t5KMZilv"
      },
      "execution_count": null,
      "outputs": []
    },
    {
      "cell_type": "markdown",
      "source": [
        "Create a target date to check for the new events, and create the query using get_events_on_date method"
      ],
      "metadata": {
        "id": "Owgx8qFbatY6"
      }
    },
    {
      "cell_type": "code",
      "source": [
        "# Create and format a target date to check for events\n",
        "#target_date = datetime.date(2023, 5, 19)\n",
        "# Create a query for the calendar for events on target date\n",
        "#events_on_target_date = example_calendar.get_events_on_date(target_date)"
      ],
      "metadata": {
        "id": "Ds9HnBjDZ1Zf"
      },
      "execution_count": null,
      "outputs": []
    },
    {
      "cell_type": "code",
      "source": [
        "# Print the events on the target date\n",
        "#if events_on_target_date:\n",
        "#    print(f\"Events on {target_date}:\")\n",
        "#    for event in events_on_target_date:\n",
        "#        print(f\"- {event.name} at {event.date_and_time.time()}\")\n",
        "#else:\n",
        "#    print(\"No events on the specified date.\")"
      ],
      "metadata": {
        "colab": {
          "base_uri": "https://localhost:8080/"
        },
        "id": "d6HidI8VZqvP",
        "outputId": "07e4eed5-fdca-47b2-e9ea-19119747c056"
      },
      "execution_count": null,
      "outputs": [
        {
          "output_type": "stream",
          "name": "stdout",
          "text": [
            "Events on 2023-05-19:\n",
            "- example at 23:00:00\n"
          ]
        }
      ]
    }
  ]
}